{
 "cells": [
  {
   "cell_type": "markdown",
   "metadata": {},
   "source": [
    "# Basics of Sensory Data\n",
    "\n",
    "* 센서데이터에 대한 기본적인 내용을 다루는 단원. Crowdsignals dataset을 예시로 설명하는데, smartphone과 watch에서 얻은 데이터\n"
   ]
  },
  {
   "cell_type": "markdown",
   "metadata": {},
   "source": [
    "### Converting the raw data to a n aggregated data format\n",
    "* 먼저, time step size에 대해서 어떤 간격으로 데이터를 볼 것 인지 정해야 한다. 목적이 무엇인가에 따라 시간 간격을 잘 정해야한다. \n",
    "* 예시로 step freqeucy를 볼려면 시간 간격을 작게 해야하고 motion state를 볼려면 시간 간격을 상대적으로 크게 해서 데이터를 봐야한다. \n",
    "* 그피고 summary statistics에 대해 정리하는 것. numerical data/categorical data에 대해 각각 데이터 서머리를 표시할 수 있다. \n",
    "\n",
    "* 짧은 단원이고 다음 단원에서 missing data,outlier를 처리하는 법에 대해서 다룬다. "
   ]
  },
  {
   "cell_type": "code",
   "execution_count": null,
   "metadata": {
    "collapsed": true
   },
   "outputs": [],
   "source": []
  }
 ],
 "metadata": {
  "kernelspec": {
   "display_name": "Python 3",
   "language": "python",
   "name": "python3"
  },
  "language_info": {
   "codemirror_mode": {
    "name": "ipython",
    "version": 3
   },
   "file_extension": ".py",
   "mimetype": "text/x-python",
   "name": "python",
   "nbconvert_exporter": "python",
   "pygments_lexer": "ipython3",
   "version": "3.6.3"
  }
 },
 "nbformat": 4,
 "nbformat_minor": 2
}
