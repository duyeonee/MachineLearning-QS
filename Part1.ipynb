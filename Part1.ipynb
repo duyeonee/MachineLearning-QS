{
 "cells": [
  {
   "cell_type": "markdown",
   "metadata": {},
   "source": [
    "# 1. Introduction "
   ]
  },
  {
   "cell_type": "markdown",
   "metadata": {},
   "source": [
    "* The term quantified self does not originate from academia, but was coined by Gary Wolf and Kevin Kelly in wired magazine in 2007.<br><br>\n",
    "\n",
    "* ** Definition 1.1 The quantified self is any individual engaged in the self-tracking of any kind of biological, physical, behavioral, or environmental information. There is a proactive stance toward obtaining information and acting on it. **<br><br>\n",
    "\n",
    "* ** Definition 1.2 The qunatified self is any individual engaged in the self-tracking of any kind of biological, physical, behavioral, or environmental information. The self-tracking is driven by a certain goal of the individual with a desire to act upon the collected information.**<br><br>\n",
    "\n",
    "* quantified self data 예시: 사실 기본적인 데이터에 대해서만 알고 어떤 데이터들을 모으는 것이 가능한지 몰랐다. 모을 수 있는 데이터를 알아두면 도움이 많이 될 것 같다. \n",
    "\n",
    "Type of measurement | Examples\n",
    "------------ | -------------\n",
    "Physical Activities | miles, steps, calories, repetitions, sets, METs\n",
    "Diet | calories consumed, carbs, fat, protein, specific ingredients, glycemic index, satiety, portions, supplements doses, tastiness, cost, location\n",
    "Psychological states and traits | mood, happiness, irritation, emotions, anxiety, self-esteem, depression, confidence\n",
    "Mental and cognitive states and tratis | IQ, alertness, focus, selective/sustained/divided attendtion, reaction, memory, verbal fluency, patience, creativity, reasoning, psychomotor vigilance\n",
    "Environmental variables | Location, architecture, weather, noise, pollution, clutter, light, season\n",
    "Situational variables | context, situation, gratification of situation, time of day, day of week\n",
    "Social variables | influence, trust, charisma, karma, current role/status in the group or social network"
   ]
  },
  {
   "cell_type": "markdown",
   "metadata": {},
   "source": [
    "The goal of this book:\n",
    "* quantified self는 많은 양의 개인 데이터의 결과인데, 그 데이터를 해석하기 위해서 머신러닝 기법들이 필요하다. 그래서 여기 책에선 머신러닝을 다음과 같이 정의하였다. \n",
    "* Definition 1.3 Machine learning is to automatically identify patterns from data\n",
    "* 작가가 quantified self에서의 머신러닝의 특징을 5가지 정의하였다 \n",
    "> 1. 센서데이터는 지저분하다. \n",
    "> 2. 많은 측정들이 유실된다. \n",
    "> 3. 데이터는 매우 일시적인 특성을 갖는다. \n",
    "> 4. 알고리즘은 긴 학습과정없이 사용자를 지원하고 상호작용 할수 있어야한다. \n",
    "> 5. 여러 사람들로 부터 데이터를 수집하고 학습을 할 수 있다. "
   ]
  },
  {
   "cell_type": "markdown",
   "metadata": {},
   "source": [
    "기본적인 terminology에 대한 정의 \n",
    "* A measurement is one value for an attribute recorded at a specific time point.\n",
    "* A time series is a series of measurements in temporal order. \n",
    "\n",
    "머신러닝 terminology\n",
    "* 머신러닝의 종류: supervised, unsupervised, semi-supervised, reinforcement \n",
    "* Supervised learning is the machine learning task of inferring a function from labeled training data. \n",
    "> classification: 예측하는 데이터 타입이 카테고리형일때<br>\n",
    "> regression: 예측하는 데이터 타입이 수치적일때 \n",
    "\n",
    "* In unsupervised learning, there is no target measure(or label), and the goal is to describe the associations and patterns among the attributes.\n",
    "* semi-supervised learning is a technique to learn patterns in the form a function based on labeled and unlabeled training examples.\n",
    "> 라벨링된 데이터를 모으는게 쉽지 않으니깐 라벨링 되지 않은 데이터를 학습에 이용하는 방법. 데이터 전체를 라벨링 하지 않아도 되는 이점이 있다. \n",
    "* Reinforcement learning tries to find optimal actions in a given situation so as to maximize a numerical reward that does not immediately come with the action but later in time.\n",
    "> 강화학습은 정책을 최적화하는 것이 목표. 행동에 대해 어떤 것도 알려주지 않는다 ."
   ]
  },
  {
   "cell_type": "markdown",
   "metadata": {},
   "source": [
    "책 overview\n",
    "* 시스템(주로 스마트폰 및 모바일 기기)-> 데이터 전처리 -> 데이터 분석(예측,분류,시각화) -> 활용으로 구성되어있다. 다 찬찬히 읽어보면 도움 될 것들"
   ]
  },
  {
   "cell_type": "code",
   "execution_count": null,
   "metadata": {
    "collapsed": true
   },
   "outputs": [],
   "source": []
  }
 ],
 "metadata": {
  "kernelspec": {
   "display_name": "Python 3",
   "language": "python",
   "name": "python3"
  },
  "language_info": {
   "codemirror_mode": {
    "name": "ipython",
    "version": 3
   },
   "file_extension": ".py",
   "mimetype": "text/x-python",
   "name": "python",
   "nbconvert_exporter": "python",
   "pygments_lexer": "ipython3",
   "version": "3.6.3"
  }
 },
 "nbformat": 4,
 "nbformat_minor": 2
}
